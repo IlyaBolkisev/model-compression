{
 "cells": [
  {
   "cell_type": "code",
   "execution_count": 1,
   "id": "30c330cf-90f2-428d-b5c3-aa2ba4a4d4ca",
   "metadata": {},
   "outputs": [],
   "source": [
    "import os\n",
    "import time\n",
    "\n",
    "import numpy as np\n",
    "import onnx\n",
    "import onnxruntime as ort\n",
    "\n",
    "import torch\n",
    "import torchvision\n",
    "import torchvision.transforms as T\n",
    "from torch.utils.data import DataLoader"
   ]
  },
  {
   "cell_type": "code",
   "execution_count": 2,
   "id": "a9f2cfb5-f2ce-4fa3-83e6-09395c7ccfe5",
   "metadata": {},
   "outputs": [],
   "source": [
    "BATCH_SIZE = 128"
   ]
  },
  {
   "cell_type": "markdown",
   "id": "806ad202-686c-4860-8547-06d7b92b1402",
   "metadata": {},
   "source": [
    "# Load data"
   ]
  },
  {
   "cell_type": "code",
   "execution_count": 3,
   "id": "ac4144ac-d34c-4583-8917-c7f45321810d",
   "metadata": {},
   "outputs": [],
   "source": [
    "train_transforms = T.Compose([\n",
    "    T.RandomCrop(32, padding=4),\n",
    "    T.RandomHorizontalFlip(),\n",
    "    T.ToTensor(),\n",
    "    T.Normalize(mean=[0.4914, 0.4822, 0.4465],\n",
    "                std=[0.2023, 0.1994, 0.2010])\n",
    "])\n",
    "\n",
    "val_transforms = T.Compose([\n",
    "    T.ToTensor(),\n",
    "    T.Normalize(mean=[0.4914, 0.4822, 0.4465],\n",
    "                std=[0.2023, 0.1994, 0.2010])\n",
    "])"
   ]
  },
  {
   "cell_type": "code",
   "execution_count": 4,
   "id": "f91332b8-7352-4dec-b020-aaceba6e9623",
   "metadata": {},
   "outputs": [
    {
     "name": "stdout",
     "output_type": "stream",
     "text": [
      "Files already downloaded and verified\n",
      "Files already downloaded and verified\n"
     ]
    }
   ],
   "source": [
    "train_dataset = torchvision.datasets.CIFAR10(root='./data', train=True, download=True, transform=train_transforms)\n",
    "val_dataset = torchvision.datasets.CIFAR10(root='./data', train=False, download=True, transform=val_transforms)\n",
    "\n",
    "train_loader = DataLoader(dataset=train_dataset, batch_size=BATCH_SIZE, shuffle=True, num_workers=8)\n",
    "val_loader = DataLoader(dataset=val_dataset, batch_size=BATCH_SIZE, shuffle=False, num_workers=8)"
   ]
  },
  {
   "cell_type": "markdown",
   "id": "e595e7d5-14e1-4942-be25-19a60bcd6a44",
   "metadata": {},
   "source": [
    "# Optimize model"
   ]
  },
  {
   "cell_type": "markdown",
   "id": "d02dfa48-cdd8-40bc-afe0-e553b21fab6e",
   "metadata": {},
   "source": [
    "## onnxoptimizer"
   ]
  },
  {
   "cell_type": "code",
   "execution_count": 5,
   "id": "8ac0d615-a2ac-4dac-855a-9d3afc1ac18d",
   "metadata": {},
   "outputs": [],
   "source": [
    "!python -m onnxoptimizer \"model.onnx\" \"model_optium.onnx\""
   ]
  },
  {
   "cell_type": "markdown",
   "id": "c9f3b823-8177-4d65-a5dc-36f97ac22d65",
   "metadata": {},
   "source": [
    "## onnxsim"
   ]
  },
  {
   "cell_type": "code",
   "execution_count": 6,
   "id": "b609f303-15b7-47cd-9585-8fe9055cd8bb",
   "metadata": {},
   "outputs": [
    {
     "name": "stdout",
     "output_type": "stream",
     "text": [
      "Simplifying\u001b[33m...\u001b[0m\n",
      "Finish! Here is the difference:\n",
      "┏━━━━━━━━━━━━┳━━━━━━━━━━━━━━━━┳━━━━━━━━━━━━━━━━━━┓\n",
      "┃\u001b[1m \u001b[0m\u001b[1m          \u001b[0m\u001b[1m \u001b[0m┃\u001b[1m \u001b[0m\u001b[1mOriginal Model\u001b[0m\u001b[1m \u001b[0m┃\u001b[1m \u001b[0m\u001b[1mSimplified Model\u001b[0m\u001b[1m \u001b[0m┃\n",
      "┡━━━━━━━━━━━━╇━━━━━━━━━━━━━━━━╇━━━━━━━━━━━━━━━━━━┩\n",
      "│ Concat     │ 1              │ 1                │\n",
      "│ Constant   │ 25             │ 25               │\n",
      "│ Conv       │ 8              │ 8                │\n",
      "│ Gather     │ 1              │ 1                │\n",
      "│ Gemm       │ 3              │ 3                │\n",
      "│ MaxPool    │ 4              │ 4                │\n",
      "│ Relu       │ 10             │ 10               │\n",
      "│ Reshape    │ 1              │ 1                │\n",
      "│ Shape      │ 1              │ 1                │\n",
      "│ Unsqueeze  │ 1              │ 1                │\n",
      "│ Model Size │ 41.9MiB        │ 41.9MiB          │\n",
      "└────────────┴────────────────┴──────────────────┘\n"
     ]
    }
   ],
   "source": [
    "!onnxsim \"model_optium.onnx\" \"model_optium.onnx\""
   ]
  },
  {
   "cell_type": "markdown",
   "id": "e80bd0a1-d26f-4f0a-8b6f-ce93aaa537af",
   "metadata": {},
   "source": [
    "# Eval"
   ]
  },
  {
   "cell_type": "code",
   "execution_count": 7,
   "id": "94ca3971-1fce-4cac-911f-d2c1ff9e256b",
   "metadata": {},
   "outputs": [
    {
     "data": {
      "text/plain": [
       "41.931105613708496"
      ]
     },
     "execution_count": 7,
     "metadata": {},
     "output_type": "execute_result"
    }
   ],
   "source": [
    "os.path.getsize('model_optium.onnx') / (1024**2)"
   ]
  },
  {
   "cell_type": "code",
   "execution_count": 25,
   "id": "28b0155d-d7bb-4a9a-a1c2-13d56833e23b",
   "metadata": {},
   "outputs": [
    {
     "name": "stdout",
     "output_type": "stream",
     "text": [
      "CPU Avg inference time: 1.2873 ms\n"
     ]
    }
   ],
   "source": [
    "onnx_session = ort.InferenceSession('model_optium.onnx', providers=[\"CPUExecutionProvider\"])\n",
    "\n",
    "test_images, test_labels = next(iter(val_loader))\n",
    "test_images = test_images[:1]  \n",
    "test_images_np = test_images.numpy() \n",
    "onnx_inputs = {\"input\": test_images_np}\n",
    "onnx_out = onnx_session.run([\"output\"], onnx_inputs)[0]\n",
    "\n",
    "num_samples = 100\n",
    "start_time = time.time()\n",
    "for _ in range(num_samples):\n",
    "    onnx_out = onnx_session.run([\"output\"], onnx_inputs)[0]\n",
    "end_time = time.time()\n",
    "\n",
    "infer_time = ((end_time - start_time) / num_samples) * 1000\n",
    "print(f'CPU Avg inference time: {infer_time:.4f} ms')"
   ]
  },
  {
   "cell_type": "code",
   "execution_count": 24,
   "id": "b6074794-eae5-4c3f-8d09-cbbf6038aeb3",
   "metadata": {},
   "outputs": [
    {
     "name": "stdout",
     "output_type": "stream",
     "text": [
      "CPU Avg inference time: 0.3646 ms\n"
     ]
    }
   ],
   "source": [
    "onnx_session = ort.InferenceSession('model_optium.onnx', providers=[\"CUDAExecutionProvider\"])\n",
    "\n",
    "test_images, test_labels = next(iter(val_loader))\n",
    "test_images = test_images[:1]  \n",
    "test_images_np = test_images.numpy() \n",
    "onnx_inputs = {\"input\": test_images_np}\n",
    "onnx_out = onnx_session.run([\"output\"], onnx_inputs)[0]\n",
    "\n",
    "num_samples = 100\n",
    "start_time = time.time()\n",
    "for _ in range(num_samples):\n",
    "    onnx_out = onnx_session.run([\"output\"], onnx_inputs)[0]\n",
    "end_time = time.time()\n",
    "\n",
    "infer_time = ((end_time - start_time) / num_samples) * 1000\n",
    "print(f'CPU Avg inference time: {infer_time:.4f} ms')"
   ]
  },
  {
   "cell_type": "code",
   "execution_count": 10,
   "id": "389f498f-6b0e-415a-a63d-977e819e1975",
   "metadata": {},
   "outputs": [
    {
     "name": "stdout",
     "output_type": "stream",
     "text": [
      "Accuracy: 88.05\n"
     ]
    }
   ],
   "source": [
    "correct = 0\n",
    "total = 0\n",
    "for X_, y_ in val_loader:\n",
    "    onnx_inputs = {\"input\": np.array(X_)}\n",
    "    outputs = onnx_session.run([\"output\"], onnx_inputs)[0]\n",
    "    _, predicted = torch.max(torch.tensor(outputs), 1)\n",
    "    correct += (predicted == y_).sum().item()\n",
    "    total += y_.size(0)\n",
    "\n",
    "accuracy = 100.0 * correct / total\n",
    "print(\"Accuracy:\", accuracy)"
   ]
  },
  {
   "cell_type": "code",
   "execution_count": null,
   "id": "f6e59429-4fb1-4b48-b0c1-848e17fef3d2",
   "metadata": {},
   "outputs": [],
   "source": []
  }
 ],
 "metadata": {
  "kernelspec": {
   "display_name": "torch",
   "language": "python",
   "name": "torch"
  },
  "language_info": {
   "codemirror_mode": {
    "name": "ipython",
    "version": 3
   },
   "file_extension": ".py",
   "mimetype": "text/x-python",
   "name": "python",
   "nbconvert_exporter": "python",
   "pygments_lexer": "ipython3",
   "version": "3.11.9"
  }
 },
 "nbformat": 4,
 "nbformat_minor": 5
}
